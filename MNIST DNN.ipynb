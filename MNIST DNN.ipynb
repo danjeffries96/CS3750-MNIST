{
 "cells": [
  {
   "cell_type": "code",
   "execution_count": null,
   "metadata": {},
   "outputs": [],
   "source": [
    "from mnist import DNNClassifier \n",
    "import tensorflow as tf"
   ]
  },
  {
   "cell_type": "code",
   "execution_count": null,
   "metadata": {},
   "outputs": [],
   "source": [
    "dnn_clf = DNNClassifier(random_state=42)"
   ]
  },
  {
   "cell_type": "markdown",
   "metadata": {},
   "source": [
    "#### Textbook parameters for DNNClassifier:  \n",
    "__n_hidden_layers__ = 2  \n",
    "__n_neurons__ = 100  \n",
    "__optimizer_class__ = tf.train.AdamOptimizer  \n",
    "__learning_rate__ = 0.01  \n",
    "__batch_size__  = 100  \n",
    "__activation__ = tf.nn.tanh  \n",
    "__initializer__ = he_init  \n",
    "__batch_norm_momentum__ = None  \n",
    "\n",
    "__dropout_rate__ = None  \n",
    "\n",
    "Training accuracy: 1.0  \n",
    "Cross val score (mean): 0.87  \n",
    "Test accuracy: 0.88  "
   ]
  },
  {
   "cell_type": "markdown",
   "metadata": {},
   "source": [
    "#### Default parameters for DNNClassifier:  \n",
    "__n_hidden_layers__ = 5  \n",
    "__n_neurons__ = 100  \n",
    "__optimizer_class__ = tf.train.AdamOptimizer  \n",
    "__learning_rate__ = 0.01  \n",
    "__batch_size__  = 20  \n",
    "__activation__ = tf.nn.elu  \n",
    "__initializer__ = he_init  \n",
    "__batch_norm_momentum__ = None  \n",
    "__dropout_rate__ = None  \n",
    "\n",
    "Training accuracy: 0.26  \n",
    "Cross val score (mean): 0.26  \n",
    "Test accuracy: 0.23  "
   ]
  },
  {
   "cell_type": "markdown",
   "metadata": {},
   "source": [
    "##  Different Number of Layers\n",
    "The default parameters for the DNN don't perform very well. Five hidden layers is probably overkill for this task. Let's try reducing the number of hidden layers.\n",
    "\n",
    "![alt text](figures/nlayers_val40k.jpg)"
   ]
  },
  {
   "cell_type": "code",
   "execution_count": null,
   "metadata": {},
   "outputs": [],
   "source": [
    "param_distribs = {\n",
    "    \"n_hidden_layers\": [1, 2, 3],\n",
    "}"
   ]
  },
  {
   "cell_type": "markdown",
   "metadata": {},
   "source": [
    "__n_hidden_layers__ = 3  \n",
    "\n",
    "Training accuracy: 1.0   \n",
    "Cross val score (mean): 0.84\n",
    "Test accuracy: 0.83\n",
    "\n",
    "__n_hidden_layers__ = 2\n",
    "\n",
    "Training accuracy: 1.0   \n",
    "Cross val score (mean): 0.833\n",
    "Test accuracy: 0.865  \n",
    "\n",
    "__n_hidden_layers__ = 1\n",
    "\n",
    "Training accuracy: 1.0   \n",
    "Cross val score (mean): 0.855\n",
    "Test accuracy: 0.86\n",
    "\n",
    "Based on this grid search, a single hidden layers tends to perform best."
   ]
  },
  {
   "cell_type": "markdown",
   "metadata": {},
   "source": [
    "## Different Activations and Dropout Rates\n",
    "\n",
    "![alt text](figures/40kvalplot.jpg)"
   ]
  },
  {
   "cell_type": "markdown",
   "metadata": {},
   "source": [
    "param_distribs = {\n",
    "    \"activation\": [tf.nn.relu, tf.nn.elu, tf.nn.tanh, tf.nn.selu]\n",
    "}"
   ]
  },
  {
   "cell_type": "markdown",
   "metadata": {},
   "source": [
    "###### Using 1 hidden layer and 5-fold CV:\n",
    "\n",
    "    activation  = tf.nn.relu  \n",
    "    Training accuracy: 1.0    \n",
    "    Cross val score (mean): 0.88  \n",
    "    Test accuracy: 0.88  \n",
    "    \n",
    "    activation = tf.nn.elu  \n",
    "    Training accuracy: 1.0     \n",
    "    Cross val score (mean): 0.89\n",
    "    Test accuracy: 0.89\n",
    "    \n",
    "    activation = tf.nn.tanh\n",
    "    Training accuracy: 1.0\n",
    "    Cross val score (mean): 0.83\n",
    "    Test accuracy: 0.835\n",
    "   \n",
    "    activation = tf.nn.selu\n",
    "    Training accuracy: 1.0\n",
    "    Cross val score (mean): 0.90\n",
    "    Test accuracy: 0.89\n",
    "\n",
    "Based on the grid search, SELU tends to give the best performance on a network with one hidden layer."
   ]
  },
  {
   "cell_type": "code",
   "execution_count": null,
   "metadata": {},
   "outputs": [],
   "source": []
  }
 ],
 "metadata": {
  "kernelspec": {
   "display_name": "Python 3",
   "language": "python",
   "name": "python3"
  },
  "language_info": {
   "codemirror_mode": {
    "name": "ipython",
    "version": 3
   },
   "file_extension": ".py",
   "mimetype": "text/x-python",
   "name": "python",
   "nbconvert_exporter": "python",
   "pygments_lexer": "ipython3",
   "version": "3.6.6"
  }
 },
 "nbformat": 4,
 "nbformat_minor": 2
}
